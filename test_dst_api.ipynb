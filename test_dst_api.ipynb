{
 "cells": [
  {
   "cell_type": "markdown",
   "id": "02720e0a",
   "metadata": {},
   "source": [
    "Everything is based on: \n",
    "https://github.com/alemartinello/dstapi"
   ]
  },
  {
   "cell_type": "code",
   "execution_count": 2,
   "id": "e80a4486",
   "metadata": {},
   "outputs": [],
   "source": [
    "# Start by importing necessary packages\n",
    "import requests\n",
    "import pandas as pd\n",
    "from IPython.display import display\n",
    "from io import StringIO\n",
    "\n",
    "from dstapi import DstApi # The helper class"
   ]
  },
  {
   "cell_type": "markdown",
   "id": "c3d53e2b",
   "metadata": {},
   "source": [
    "# ENERGI"
   ]
  },
  {
   "cell_type": "markdown",
   "id": "add14de7",
   "metadata": {},
   "source": [
    "## Understand data structure and content"
   ]
  },
  {
   "cell_type": "code",
   "execution_count": 3,
   "id": "e72850a2",
   "metadata": {
    "scrolled": true
   },
   "outputs": [
    {
     "data": {
      "text/plain": [
       "{'id': 'ENERGI1',\n",
       " 'text': 'Prices of electricity for households',\n",
       " 'description': 'Prices of electricity for households by annual consumption, price definition, energy unit and time',\n",
       " 'unit': 'Dkk per unit',\n",
       " 'suppressedDataValue': '0',\n",
       " 'updated': '2021-10-05T08:00:00',\n",
       " 'active': True,\n",
       " 'contacts': [{'name': 'Ole Olsen',\n",
       "   'phone': '+4539173863',\n",
       "   'mail': 'olo@dst.dk'}],\n",
       " 'documentation': {'id': '0ac1bfbb-a6c9-4921-8e1f-fecd4dac68d5',\n",
       "  'url': 'https://www.dst.dk/documentationofstatistics/0ac1bfbb-a6c9-4921-8e1f-fecd4dac68d5'},\n",
       " 'footnote': None,\n",
       " 'variables': [{'id': 'AARSFORBRUG',\n",
       "   'text': 'annual consumption',\n",
       "   'elimination': False,\n",
       "   'time': False,\n",
       "   'values': [{'id': '1', 'text': 'Consumption below 1 MWh'},\n",
       "    {'id': '2', 'text': 'Consumption 1.0 - 2.4 MWh'},\n",
       "    {'id': '3', 'text': 'Consumption 2.5 - 4.9 MWh'},\n",
       "    {'id': '4', 'text': 'Consumption 5.0 - 14.9 MWh'},\n",
       "    {'id': '5', 'text': 'Consumption 15 MWh and over'}]},\n",
       "  {'id': 'PRISDEFINITION',\n",
       "   'text': 'price definition',\n",
       "   'elimination': False,\n",
       "   'time': False,\n",
       "   'values': [{'id': '20', 'text': 'Price energy og distribution (level 1)'},\n",
       "    {'id': '21', 'text': 'Price including non-recoverable taxes (level 2)'},\n",
       "    {'id': '22', 'text': 'Price inkluding paid taxes and VAT (level 3)'}]},\n",
       "  {'id': 'ENERGIENHED',\n",
       "   'text': 'energy unit',\n",
       "   'elimination': False,\n",
       "   'time': False,\n",
       "   'values': [{'id': 'KWH', 'text': 'Kilo Watt Hours (kWh)'},\n",
       "    {'id': 'GJ', 'text': 'Gigajoule (GJ)'}]},\n",
       "  {'id': 'Tid',\n",
       "   'text': 'time',\n",
       "   'elimination': False,\n",
       "   'time': True,\n",
       "   'values': [{'id': '2015H1', 'text': '2015H1'},\n",
       "    {'id': '2015H2', 'text': '2015H2'},\n",
       "    {'id': '2016H1', 'text': '2016H1'},\n",
       "    {'id': '2016H2', 'text': '2016H2'},\n",
       "    {'id': '2017H1', 'text': '2017H1'},\n",
       "    {'id': '2017H2', 'text': '2017H2'},\n",
       "    {'id': '2018H1', 'text': '2018H1'},\n",
       "    {'id': '2018H2', 'text': '2018H2'},\n",
       "    {'id': '2019H1', 'text': '2019H1'},\n",
       "    {'id': '2019H2', 'text': '2019H2'},\n",
       "    {'id': '2020H1', 'text': '2020H1'},\n",
       "    {'id': '2020H2', 'text': '2020H2'},\n",
       "    {'id': '2021H1', 'text': '2021H1'}]}]}"
      ]
     },
     "execution_count": 3,
     "metadata": {},
     "output_type": "execute_result"
    }
   ],
   "source": [
    "# Pass a dictionary of parameters to requests.get()\n",
    "params = {'id': 'energi1', 'format': 'JSON'}\n",
    "requests.get('https://api.statbank.dk/v1' + '/tableinfo', params=params).json()\n",
    "\n",
    "# Use response.post() - note the change in the name of the parameter about the table's name\n",
    "# I'm also adding here a language parameter - most tables are available in both Danish and English\n",
    "params = {'table': 'energi1', 'format': 'JSON', 'lang':'en'}\n",
    "requests.post('https://api.statbank.dk/v1' + '/tableinfo', json=params).json()"
   ]
  },
  {
   "cell_type": "code",
   "execution_count": null,
   "id": "9ebb1db4",
   "metadata": {},
   "outputs": [],
   "source": [
    "# Using dstapi"
   ]
  },
  {
   "cell_type": "code",
   "execution_count": 4,
   "id": "88c6d134",
   "metadata": {},
   "outputs": [],
   "source": [
    "household_electricity_prices = DstApi('ENERGI1')"
   ]
  },
  {
   "cell_type": "code",
   "execution_count": 12,
   "id": "7f0532c8",
   "metadata": {},
   "outputs": [
    {
     "name": "stdout",
     "output_type": "stream",
     "text": [
      "Table ENERGI1: Prices of electricity for households by annual consumption, price definition, energy unit and time\n",
      "Last update: 2021-10-05T08:00:00\n"
     ]
    },
    {
     "data": {
      "text/html": [
       "<div>\n",
       "<style scoped>\n",
       "    .dataframe tbody tr th:only-of-type {\n",
       "        vertical-align: middle;\n",
       "    }\n",
       "\n",
       "    .dataframe tbody tr th {\n",
       "        vertical-align: top;\n",
       "    }\n",
       "\n",
       "    .dataframe thead th {\n",
       "        text-align: right;\n",
       "    }\n",
       "</style>\n",
       "<table border=\"1\" class=\"dataframe\">\n",
       "  <thead>\n",
       "    <tr style=\"text-align: right;\">\n",
       "      <th></th>\n",
       "      <th>variable name</th>\n",
       "      <th># values</th>\n",
       "      <th>First value</th>\n",
       "      <th>First value label</th>\n",
       "      <th>Last value</th>\n",
       "      <th>Last value label</th>\n",
       "      <th>Time variable</th>\n",
       "    </tr>\n",
       "  </thead>\n",
       "  <tbody>\n",
       "    <tr>\n",
       "      <th>0</th>\n",
       "      <td>AARSFORBRUG</td>\n",
       "      <td>5</td>\n",
       "      <td>1</td>\n",
       "      <td>Consumption below 1 MWh</td>\n",
       "      <td>5</td>\n",
       "      <td>Consumption 15 MWh and over</td>\n",
       "      <td>False</td>\n",
       "    </tr>\n",
       "    <tr>\n",
       "      <th>1</th>\n",
       "      <td>PRISDEFINITION</td>\n",
       "      <td>3</td>\n",
       "      <td>20</td>\n",
       "      <td>Price energy og distribution (level 1)</td>\n",
       "      <td>22</td>\n",
       "      <td>Price inkluding paid taxes and VAT (level 3)</td>\n",
       "      <td>False</td>\n",
       "    </tr>\n",
       "    <tr>\n",
       "      <th>2</th>\n",
       "      <td>ENERGIENHED</td>\n",
       "      <td>2</td>\n",
       "      <td>KWH</td>\n",
       "      <td>Kilo Watt Hours (kWh)</td>\n",
       "      <td>GJ</td>\n",
       "      <td>Gigajoule (GJ)</td>\n",
       "      <td>False</td>\n",
       "    </tr>\n",
       "    <tr>\n",
       "      <th>3</th>\n",
       "      <td>Tid</td>\n",
       "      <td>13</td>\n",
       "      <td>2015H1</td>\n",
       "      <td>2015H1</td>\n",
       "      <td>2021H1</td>\n",
       "      <td>2021H1</td>\n",
       "      <td>True</td>\n",
       "    </tr>\n",
       "  </tbody>\n",
       "</table>\n",
       "</div>"
      ],
      "text/plain": [
       "    variable name  # values First value  \\\n",
       "0     AARSFORBRUG         5           1   \n",
       "1  PRISDEFINITION         3          20   \n",
       "2     ENERGIENHED         2         KWH   \n",
       "3             Tid        13      2015H1   \n",
       "\n",
       "                        First value label Last value  \\\n",
       "0                 Consumption below 1 MWh          5   \n",
       "1  Price energy og distribution (level 1)         22   \n",
       "2                   Kilo Watt Hours (kWh)         GJ   \n",
       "3                                  2015H1     2021H1   \n",
       "\n",
       "                               Last value label  Time variable  \n",
       "0                   Consumption 15 MWh and over          False  \n",
       "1  Price inkluding paid taxes and VAT (level 3)          False  \n",
       "2                                Gigajoule (GJ)          False  \n",
       "3                                        2021H1           True  "
      ]
     },
     "execution_count": 12,
     "metadata": {},
     "output_type": "execute_result"
    }
   ],
   "source": [
    "household_electricity_prices.tablesummary(language = 'en')"
   ]
  },
  {
   "cell_type": "code",
   "execution_count": 30,
   "id": "7ce04e8b",
   "metadata": {},
   "outputs": [
    {
     "name": "stdout",
     "output_type": "stream",
     "text": [
      "Table ENERGI1: Prices of electricity for households by annual consumption, price definition, energy unit and time\n",
      "Last update: 2021-10-05T08:00:00\n"
     ]
    },
    {
     "data": {
      "text/plain": [
       "['AARSFORBRUG', 'PRISDEFINITION', 'ENERGIENHED', 'Tid']"
      ]
     },
     "execution_count": 30,
     "metadata": {},
     "output_type": "execute_result"
    }
   ],
   "source": [
    "result = [x for x in household_electricity_prices.tablesummary(language = 'en')['variable name']]\n",
    "result"
   ]
  },
  {
   "cell_type": "code",
   "execution_count": 37,
   "id": "68b9e841",
   "metadata": {
    "scrolled": true
   },
   "outputs": [
    {
     "name": "stdout",
     "output_type": "stream",
     "text": [
      "Table ENERGI1: Prices of electricity for households by annual consumption, price definition, energy unit and time\n",
      "Last update: 2021-10-05T08:00:00\n",
      "  id                         text\n",
      "0  1      Consumption below 1 MWh\n",
      "1  2    Consumption 1.0 - 2.4 MWh\n",
      "2  3    Consumption 2.5 - 4.9 MWh\n",
      "3  4   Consumption 5.0 - 14.9 MWh\n",
      "4  5  Consumption 15 MWh and over\n",
      "\n",
      "\n",
      "   id                                             text\n",
      "0  20           Price energy og distribution (level 1)\n",
      "1  21  Price including non-recoverable taxes (level 2)\n",
      "2  22     Price inkluding paid taxes and VAT (level 3)\n",
      "\n",
      "\n",
      "    id                   text\n",
      "0  KWH  Kilo Watt Hours (kWh)\n",
      "1   GJ         Gigajoule (GJ)\n",
      "\n",
      "\n",
      "        id    text\n",
      "0   2015H1  2015H1\n",
      "1   2015H2  2015H2\n",
      "2   2016H1  2016H1\n",
      "3   2016H2  2016H2\n",
      "4   2017H1  2017H1\n",
      "5   2017H2  2017H2\n",
      "6   2018H1  2018H1\n",
      "7   2018H2  2018H2\n",
      "8   2019H1  2019H1\n",
      "9   2019H2  2019H2\n",
      "10  2020H1  2020H1\n",
      "11  2020H2  2020H2\n",
      "12  2021H1  2021H1\n",
      "\n",
      "\n"
     ]
    }
   ],
   "source": [
    "# Get an overview of all variable names of the data\n",
    "for variable_name in [x for x in household_electricity_prices.tablesummary(language = 'en')['variable name']]:\n",
    "    print(household_electricity_prices.variable_levels(variable_name, language = 'en'))\n",
    "    print('\\n')"
   ]
  },
  {
   "cell_type": "markdown",
   "id": "fa3de0b4",
   "metadata": {},
   "source": [
    "## Getting the data"
   ]
  },
  {
   "cell_type": "code",
   "execution_count": 55,
   "id": "fbb21c85",
   "metadata": {},
   "outputs": [
    {
     "name": "stdout",
     "output_type": "stream",
     "text": [
      "Table ENERGI1: Prices of electricity for households by annual consumption, price definition, energy unit and time\n",
      "Last update: 2021-10-05T08:00:00\n"
     ]
    },
    {
     "data": {
      "text/plain": [
       "'Tid'"
      ]
     },
     "execution_count": 55,
     "metadata": {},
     "output_type": "execute_result"
    }
   ],
   "source": [
    "# Choose variable names\n",
    "variable_names = [x for x in household_electricity_prices.tablesummary(language = 'en')['variable name']]\n",
    "variable_names[0]\n",
    "variable_names[-1]"
   ]
  },
  {
   "cell_type": "code",
   "execution_count": 58,
   "id": "9c483171",
   "metadata": {},
   "outputs": [
    {
     "data": {
      "text/html": [
       "<div>\n",
       "<style scoped>\n",
       "    .dataframe tbody tr th:only-of-type {\n",
       "        vertical-align: middle;\n",
       "    }\n",
       "\n",
       "    .dataframe tbody tr th {\n",
       "        vertical-align: top;\n",
       "    }\n",
       "\n",
       "    .dataframe thead th {\n",
       "        text-align: right;\n",
       "    }\n",
       "</style>\n",
       "<table border=\"1\" class=\"dataframe\">\n",
       "  <thead>\n",
       "    <tr style=\"text-align: right;\">\n",
       "      <th></th>\n",
       "      <th>id</th>\n",
       "      <th>text</th>\n",
       "    </tr>\n",
       "  </thead>\n",
       "  <tbody>\n",
       "    <tr>\n",
       "      <th>0</th>\n",
       "      <td>1</td>\n",
       "      <td>Consumption below 1 MWh</td>\n",
       "    </tr>\n",
       "    <tr>\n",
       "      <th>1</th>\n",
       "      <td>2</td>\n",
       "      <td>Consumption 1.0 - 2.4 MWh</td>\n",
       "    </tr>\n",
       "    <tr>\n",
       "      <th>2</th>\n",
       "      <td>3</td>\n",
       "      <td>Consumption 2.5 - 4.9 MWh</td>\n",
       "    </tr>\n",
       "    <tr>\n",
       "      <th>3</th>\n",
       "      <td>4</td>\n",
       "      <td>Consumption 5.0 - 14.9 MWh</td>\n",
       "    </tr>\n",
       "    <tr>\n",
       "      <th>4</th>\n",
       "      <td>5</td>\n",
       "      <td>Consumption 15 MWh and over</td>\n",
       "    </tr>\n",
       "  </tbody>\n",
       "</table>\n",
       "</div>"
      ],
      "text/plain": [
       "  id                         text\n",
       "0  1      Consumption below 1 MWh\n",
       "1  2    Consumption 1.0 - 2.4 MWh\n",
       "2  3    Consumption 2.5 - 4.9 MWh\n",
       "3  4   Consumption 5.0 - 14.9 MWh\n",
       "4  5  Consumption 15 MWh and over"
      ]
     },
     "execution_count": 58,
     "metadata": {},
     "output_type": "execute_result"
    }
   ],
   "source": [
    "# Choose and index for your variable name\n",
    "household_electricity_prices.variable_levels(variable_names[0], language = 'en')"
   ]
  },
  {
   "cell_type": "code",
   "execution_count": 62,
   "id": "608ff804",
   "metadata": {},
   "outputs": [
    {
     "data": {
      "text/html": [
       "<div>\n",
       "<style scoped>\n",
       "    .dataframe tbody tr th:only-of-type {\n",
       "        vertical-align: middle;\n",
       "    }\n",
       "\n",
       "    .dataframe tbody tr th {\n",
       "        vertical-align: top;\n",
       "    }\n",
       "\n",
       "    .dataframe thead th {\n",
       "        text-align: right;\n",
       "    }\n",
       "</style>\n",
       "<table border=\"1\" class=\"dataframe\">\n",
       "  <thead>\n",
       "    <tr style=\"text-align: right;\">\n",
       "      <th></th>\n",
       "      <th>id</th>\n",
       "      <th>text</th>\n",
       "    </tr>\n",
       "  </thead>\n",
       "  <tbody>\n",
       "    <tr>\n",
       "      <th>0</th>\n",
       "      <td>20</td>\n",
       "      <td>Price energy og distribution (level 1)</td>\n",
       "    </tr>\n",
       "    <tr>\n",
       "      <th>1</th>\n",
       "      <td>21</td>\n",
       "      <td>Price including non-recoverable taxes (level 2)</td>\n",
       "    </tr>\n",
       "    <tr>\n",
       "      <th>2</th>\n",
       "      <td>22</td>\n",
       "      <td>Price inkluding paid taxes and VAT (level 3)</td>\n",
       "    </tr>\n",
       "  </tbody>\n",
       "</table>\n",
       "</div>"
      ],
      "text/plain": [
       "   id                                             text\n",
       "0  20           Price energy og distribution (level 1)\n",
       "1  21  Price including non-recoverable taxes (level 2)\n",
       "2  22     Price inkluding paid taxes and VAT (level 3)"
      ]
     },
     "execution_count": 62,
     "metadata": {},
     "output_type": "execute_result"
    }
   ],
   "source": [
    "# Choose and index for your variable name\n",
    "household_electricity_prices.variable_levels(variable_names[1], language = 'en')"
   ]
  },
  {
   "cell_type": "code",
   "execution_count": 64,
   "id": "25ddab1c",
   "metadata": {},
   "outputs": [
    {
     "name": "stdout",
     "output_type": "stream",
     "text": [
      "AARSFORBRUG;PRISDEFINITION;ENERGIENHED;TID;INDHOLD\r\n",
      "Forbrug under 1 MWh;Pris for energi og distribution (niveau 1);Gigajoule (GJ);2015H1;300,9100\r\n",
      "Forbrug under 1 MWh;Pris for energi og distribution (niveau 1);Gigajoule (GJ);2015H2;290,0500\r\n",
      "Forbrug under 1 MWh;Pris for energi og distribution (niveau 1);Gigajoule (GJ);2016H1;291,4700\r\n",
      "Forbrug under 1 MWh;Pris for energi og distribution (niveau 1);Gigajoule (GJ);2016H2;305,1600\r\n",
      "Forbrug under 1 MWh;Pris for energi og distribution (niveau 1);Gigajoule (GJ);2017H1;312,8900\r\n",
      "Forbrug under 1 MWh;Pris for energi og distribution (niveau 1);Gigajoule (GJ);2017H2;307,6600\r\n",
      "Forbrug under 1 MWh;Pris for energi og distribution (niveau 1);Gigajoule (GJ);2018H1;327,1100\r\n",
      "Forbrug under 1 MWh;Pris for energi og distribution (niveau 1);Gigajoule (GJ);2018H2;349,6700\r\n",
      "Forbrug under 1 MWh;Pris for energi og distribution (niveau 1);Gigajoule (GJ);2019H1;337,3400\r\n",
      "Forbrug under 1 MWh;Pris for energi og distribution (niveau 1);Gigajoule (GJ);2019H2;340,0800\r\n",
      "Forbrug under 1 MWh;Pris for energi og distribution (niveau 1);Gigajoule (GJ);2020H1;322,4600\r\n",
      "For\n"
     ]
    }
   ],
   "source": [
    "# using request\n",
    "par_table = 'energi1'\n",
    "par_format = 'BULK'\n",
    "\n",
    "params = {\n",
    "    'table': table,\n",
    "   bb 'format': par_format,\n",
    "    'variables': [\n",
    "        {'code': variable_names[0], 'values': ['1']},\n",
    "        {'code': variable_names[1], 'values': ['20']},\n",
    "        {'code': variable_names[2], 'values': ['GJ']},\n",
    "        {'code': variable_names[3], 'values': ['*']}\n",
    "    ]\n",
    "}\n",
    "r = requests.post('https://api.statbank.dk/v1' + '/data', json=params)\n",
    "print(r.text[:1100])"
   ]
  },
  {
   "cell_type": "code",
   "execution_count": 65,
   "id": "c6cf243f",
   "metadata": {},
   "outputs": [
    {
     "data": {
      "text/html": [
       "<div>\n",
       "<style scoped>\n",
       "    .dataframe tbody tr th:only-of-type {\n",
       "        vertical-align: middle;\n",
       "    }\n",
       "\n",
       "    .dataframe tbody tr th {\n",
       "        vertical-align: top;\n",
       "    }\n",
       "\n",
       "    .dataframe thead th {\n",
       "        text-align: right;\n",
       "    }\n",
       "</style>\n",
       "<table border=\"1\" class=\"dataframe\">\n",
       "  <thead>\n",
       "    <tr style=\"text-align: right;\">\n",
       "      <th></th>\n",
       "      <th>AARSFORBRUG</th>\n",
       "      <th>PRISDEFINITION</th>\n",
       "      <th>ENERGIENHED</th>\n",
       "      <th>TID</th>\n",
       "      <th>INDHOLD</th>\n",
       "    </tr>\n",
       "  </thead>\n",
       "  <tbody>\n",
       "    <tr>\n",
       "      <th>0</th>\n",
       "      <td>Forbrug under 1 MWh</td>\n",
       "      <td>Pris for energi og distribution (niveau 1)</td>\n",
       "      <td>Gigajoule (GJ)</td>\n",
       "      <td>2015H1</td>\n",
       "      <td>300,9100</td>\n",
       "    </tr>\n",
       "    <tr>\n",
       "      <th>1</th>\n",
       "      <td>Forbrug under 1 MWh</td>\n",
       "      <td>Pris for energi og distribution (niveau 1)</td>\n",
       "      <td>Gigajoule (GJ)</td>\n",
       "      <td>2015H2</td>\n",
       "      <td>290,0500</td>\n",
       "    </tr>\n",
       "    <tr>\n",
       "      <th>2</th>\n",
       "      <td>Forbrug under 1 MWh</td>\n",
       "      <td>Pris for energi og distribution (niveau 1)</td>\n",
       "      <td>Gigajoule (GJ)</td>\n",
       "      <td>2016H1</td>\n",
       "      <td>291,4700</td>\n",
       "    </tr>\n",
       "    <tr>\n",
       "      <th>3</th>\n",
       "      <td>Forbrug under 1 MWh</td>\n",
       "      <td>Pris for energi og distribution (niveau 1)</td>\n",
       "      <td>Gigajoule (GJ)</td>\n",
       "      <td>2016H2</td>\n",
       "      <td>305,1600</td>\n",
       "    </tr>\n",
       "    <tr>\n",
       "      <th>4</th>\n",
       "      <td>Forbrug under 1 MWh</td>\n",
       "      <td>Pris for energi og distribution (niveau 1)</td>\n",
       "      <td>Gigajoule (GJ)</td>\n",
       "      <td>2017H1</td>\n",
       "      <td>312,8900</td>\n",
       "    </tr>\n",
       "  </tbody>\n",
       "</table>\n",
       "</div>"
      ],
      "text/plain": [
       "           AARSFORBRUG                              PRISDEFINITION  \\\n",
       "0  Forbrug under 1 MWh  Pris for energi og distribution (niveau 1)   \n",
       "1  Forbrug under 1 MWh  Pris for energi og distribution (niveau 1)   \n",
       "2  Forbrug under 1 MWh  Pris for energi og distribution (niveau 1)   \n",
       "3  Forbrug under 1 MWh  Pris for energi og distribution (niveau 1)   \n",
       "4  Forbrug under 1 MWh  Pris for energi og distribution (niveau 1)   \n",
       "\n",
       "      ENERGIENHED     TID   INDHOLD  \n",
       "0  Gigajoule (GJ)  2015H1  300,9100  \n",
       "1  Gigajoule (GJ)  2015H2  290,0500  \n",
       "2  Gigajoule (GJ)  2016H1  291,4700  \n",
       "3  Gigajoule (GJ)  2016H2  305,1600  \n",
       "4  Gigajoule (GJ)  2017H1  312,8900  "
      ]
     },
     "execution_count": 65,
     "metadata": {},
     "output_type": "execute_result"
    }
   ],
   "source": [
    "pd.read_table(StringIO(r.text), sep=';').head()"
   ]
  },
  {
   "cell_type": "markdown",
   "id": "9d9c2665",
   "metadata": {},
   "source": [
    "### Specify time interval"
   ]
  },
  {
   "cell_type": "code",
   "execution_count": 71,
   "id": "f2b0aedd",
   "metadata": {},
   "outputs": [
    {
     "data": {
      "text/plain": [
       "['2015H1',\n",
       " '2015H2',\n",
       " '2016H1',\n",
       " '2016H2',\n",
       " '2017H1',\n",
       " '2017H2',\n",
       " '2018H1',\n",
       " '2018H2',\n",
       " '2019H1',\n",
       " '2019H2',\n",
       " '2020H1',\n",
       " '2020H2',\n",
       " '2021H1']"
      ]
     },
     "execution_count": 71,
     "metadata": {},
     "output_type": "execute_result"
    }
   ],
   "source": [
    "id_time = [x for x in household_electricity_prices.variable_levels(variable_names[-1], language = 'en')['id']]\n",
    "id_time"
   ]
  },
  {
   "cell_type": "code",
   "execution_count": 72,
   "id": "14436c52",
   "metadata": {},
   "outputs": [],
   "source": [
    "params = {\n",
    "    'table': par_table,\n",
    "    'format': par_format,\n",
    "    'lang': 'en',\n",
    "    'variables': [\n",
    "        {'code': variable_names[0], 'values': ['1']},\n",
    "        {'code': variable_names[1], 'values': ['20']},\n",
    "        {'code': variable_names[2], 'values': ['GJ']},\n",
    "        {'code': variable_names[3], 'values': [f'>{id_time[4]}<={id_time[8]}']}\n",
    "    ]\n",
    "}\n",
    "df = pd.read_csv(\n",
    "    StringIO(\n",
    "        requests.post('https://api.statbank.dk/v1' + '/data', json=params).text\n",
    "    ), sep=';'\n",
    ")"
   ]
  },
  {
   "cell_type": "code",
   "execution_count": 73,
   "id": "9a4539f5",
   "metadata": {},
   "outputs": [
    {
     "data": {
      "text/html": [
       "<div>\n",
       "<style scoped>\n",
       "    .dataframe tbody tr th:only-of-type {\n",
       "        vertical-align: middle;\n",
       "    }\n",
       "\n",
       "    .dataframe tbody tr th {\n",
       "        vertical-align: top;\n",
       "    }\n",
       "\n",
       "    .dataframe thead th {\n",
       "        text-align: right;\n",
       "    }\n",
       "</style>\n",
       "<table border=\"1\" class=\"dataframe\">\n",
       "  <thead>\n",
       "    <tr style=\"text-align: right;\">\n",
       "      <th></th>\n",
       "      <th>AARSFORBRUG</th>\n",
       "      <th>PRISDEFINITION</th>\n",
       "      <th>ENERGIENHED</th>\n",
       "      <th>TID</th>\n",
       "      <th>INDHOLD</th>\n",
       "    </tr>\n",
       "  </thead>\n",
       "  <tbody>\n",
       "    <tr>\n",
       "      <th>0</th>\n",
       "      <td>Consumption below 1 MWh</td>\n",
       "      <td>Price energy og distribution (level 1)</td>\n",
       "      <td>Gigajoule (GJ)</td>\n",
       "      <td>2017H2</td>\n",
       "      <td>307.66</td>\n",
       "    </tr>\n",
       "    <tr>\n",
       "      <th>1</th>\n",
       "      <td>Consumption below 1 MWh</td>\n",
       "      <td>Price energy og distribution (level 1)</td>\n",
       "      <td>Gigajoule (GJ)</td>\n",
       "      <td>2018H1</td>\n",
       "      <td>327.11</td>\n",
       "    </tr>\n",
       "    <tr>\n",
       "      <th>2</th>\n",
       "      <td>Consumption below 1 MWh</td>\n",
       "      <td>Price energy og distribution (level 1)</td>\n",
       "      <td>Gigajoule (GJ)</td>\n",
       "      <td>2018H2</td>\n",
       "      <td>349.67</td>\n",
       "    </tr>\n",
       "    <tr>\n",
       "      <th>3</th>\n",
       "      <td>Consumption below 1 MWh</td>\n",
       "      <td>Price energy og distribution (level 1)</td>\n",
       "      <td>Gigajoule (GJ)</td>\n",
       "      <td>2019H1</td>\n",
       "      <td>337.34</td>\n",
       "    </tr>\n",
       "  </tbody>\n",
       "</table>\n",
       "</div>"
      ],
      "text/plain": [
       "               AARSFORBRUG                          PRISDEFINITION  \\\n",
       "0  Consumption below 1 MWh  Price energy og distribution (level 1)   \n",
       "1  Consumption below 1 MWh  Price energy og distribution (level 1)   \n",
       "2  Consumption below 1 MWh  Price energy og distribution (level 1)   \n",
       "3  Consumption below 1 MWh  Price energy og distribution (level 1)   \n",
       "\n",
       "      ENERGIENHED     TID  INDHOLD  \n",
       "0  Gigajoule (GJ)  2017H2   307.66  \n",
       "1  Gigajoule (GJ)  2018H1   327.11  \n",
       "2  Gigajoule (GJ)  2018H2   349.67  \n",
       "3  Gigajoule (GJ)  2019H1   337.34  "
      ]
     },
     "execution_count": 73,
     "metadata": {},
     "output_type": "execute_result"
    }
   ],
   "source": [
    "df"
   ]
  },
  {
   "cell_type": "code",
   "execution_count": 76,
   "id": "297377d6",
   "metadata": {},
   "outputs": [
    {
     "data": {
      "text/html": [
       "<div>\n",
       "<style scoped>\n",
       "    .dataframe tbody tr th:only-of-type {\n",
       "        vertical-align: middle;\n",
       "    }\n",
       "\n",
       "    .dataframe tbody tr th {\n",
       "        vertical-align: top;\n",
       "    }\n",
       "\n",
       "    .dataframe thead th {\n",
       "        text-align: right;\n",
       "    }\n",
       "</style>\n",
       "<table border=\"1\" class=\"dataframe\">\n",
       "  <thead>\n",
       "    <tr style=\"text-align: right;\">\n",
       "      <th></th>\n",
       "      <th>AARSFORBRUG</th>\n",
       "      <th>PRISDEFINITION</th>\n",
       "      <th>ENERGIENHED</th>\n",
       "      <th>TID</th>\n",
       "      <th>INDHOLD</th>\n",
       "    </tr>\n",
       "  </thead>\n",
       "  <tbody>\n",
       "    <tr>\n",
       "      <th>0</th>\n",
       "      <td>Consumption below 1 MWh</td>\n",
       "      <td>Price energy og distribution (level 1)</td>\n",
       "      <td>Gigajoule (GJ)</td>\n",
       "      <td>2017H2</td>\n",
       "      <td>307.6600</td>\n",
       "    </tr>\n",
       "    <tr>\n",
       "      <th>1</th>\n",
       "      <td>Consumption below 1 MWh</td>\n",
       "      <td>Price energy og distribution (level 1)</td>\n",
       "      <td>Gigajoule (GJ)</td>\n",
       "      <td>2018H1</td>\n",
       "      <td>327.1100</td>\n",
       "    </tr>\n",
       "    <tr>\n",
       "      <th>2</th>\n",
       "      <td>Consumption below 1 MWh</td>\n",
       "      <td>Price energy og distribution (level 1)</td>\n",
       "      <td>Gigajoule (GJ)</td>\n",
       "      <td>2018H2</td>\n",
       "      <td>349.6700</td>\n",
       "    </tr>\n",
       "    <tr>\n",
       "      <th>3</th>\n",
       "      <td>Consumption below 1 MWh</td>\n",
       "      <td>Price energy og distribution (level 1)</td>\n",
       "      <td>Gigajoule (GJ)</td>\n",
       "      <td>2019H1</td>\n",
       "      <td>337.3400</td>\n",
       "    </tr>\n",
       "  </tbody>\n",
       "</table>\n",
       "</div>"
      ],
      "text/plain": [
       "               AARSFORBRUG                          PRISDEFINITION  \\\n",
       "0  Consumption below 1 MWh  Price energy og distribution (level 1)   \n",
       "1  Consumption below 1 MWh  Price energy og distribution (level 1)   \n",
       "2  Consumption below 1 MWh  Price energy og distribution (level 1)   \n",
       "3  Consumption below 1 MWh  Price energy og distribution (level 1)   \n",
       "\n",
       "      ENERGIENHED     TID   INDHOLD  \n",
       "0  Gigajoule (GJ)  2017H2  307.6600  \n",
       "1  Gigajoule (GJ)  2018H1  327.1100  \n",
       "2  Gigajoule (GJ)  2018H2  349.6700  \n",
       "3  Gigajoule (GJ)  2019H1  337.3400  "
      ]
     },
     "execution_count": 76,
     "metadata": {},
     "output_type": "execute_result"
    }
   ],
   "source": [
    "# using the DstApi\n",
    "# will then return your request directly as pandas dataframe\n",
    "household_electricity_prices.get_data(params=params)"
   ]
  },
  {
   "cell_type": "markdown",
   "id": "e348c501",
   "metadata": {},
   "source": [
    "## Help with defining basic parameters"
   ]
  },
  {
   "cell_type": "code",
   "execution_count": 77,
   "id": "f5eb6c38",
   "metadata": {},
   "outputs": [
    {
     "data": {
      "text/plain": [
       "{'table': 'energi1',\n",
       " 'format': 'BULK',\n",
       " 'lang': 'en',\n",
       " 'variables': [{'code': 'AARSFORBRUG', 'values': ['*']},\n",
       "  {'code': 'PRISDEFINITION', 'values': ['*']},\n",
       "  {'code': 'ENERGIENHED', 'values': ['*']},\n",
       "  {'code': 'Tid', 'values': ['*']}]}"
      ]
     },
     "execution_count": 77,
     "metadata": {},
     "output_type": "execute_result"
    }
   ],
   "source": [
    "household_electricity_prices._define_base_params(language='en')"
   ]
  },
  {
   "cell_type": "code",
   "execution_count": null,
   "id": "eed7d7f5",
   "metadata": {},
   "outputs": [],
   "source": []
  }
 ],
 "metadata": {
  "kernelspec": {
   "display_name": "Python 3 (ipykernel)",
   "language": "python",
   "name": "python3"
  },
  "language_info": {
   "codemirror_mode": {
    "name": "ipython",
    "version": 3
   },
   "file_extension": ".py",
   "mimetype": "text/x-python",
   "name": "python",
   "nbconvert_exporter": "python",
   "pygments_lexer": "ipython3",
   "version": "3.9.7"
  }
 },
 "nbformat": 4,
 "nbformat_minor": 5
}
